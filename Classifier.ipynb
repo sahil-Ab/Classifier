{
 "cells": [
  {
   "cell_type": "code",
   "execution_count": 1,
   "id": "58d6ed69",
   "metadata": {},
   "outputs": [],
   "source": [
    "import tensorflow as tf\n",
    "import pandas as pd\n",
    "from keras.models import load_model\n",
    "import numpy as np\n",
    "from matplotlib import pyplot as plt\n",
    "import random\n",
    "import sys\n"
   ]
  },
  {
   "cell_type": "markdown",
   "id": "ba763858",
   "metadata": {},
   "source": [
    "### Load Dataset"
   ]
  },
  {
   "cell_type": "code",
   "execution_count": 2,
   "id": "e3239375",
   "metadata": {},
   "outputs": [],
   "source": [
    "# Could use TF loaders to load data\n",
    "def load_dataset(path_train = 'Arrow R&D ML Engineer/train.csv', path_test = 'Arrow R&D ML Engineer/test.csv'):\n",
    "    '''\n",
    "        Loads data as pandas' dataframe\n",
    "    '''\n",
    "    assert isinstance(path_train,str), 'Train file path must be a string'\n",
    "    assert isinstance(path_test,str), 'Test file path must be a string'\n",
    "    try:\n",
    "        train = pd.read_csv(path_train)\n",
    "        test = pd.read_csv(path_test)\n",
    "        return train.iloc[:,:-1], train.iloc[:,-1],test.iloc[:,:-1], test.iloc[:,-1]\n",
    "    except OSError as e:\n",
    "        print('Please provide the correct path.',e)"
   ]
  },
  {
   "cell_type": "code",
   "execution_count": 3,
   "id": "b10951df",
   "metadata": {
    "scrolled": false
   },
   "outputs": [],
   "source": [
    "dataset = load_dataset()\n",
    "X_train, y_train, X_test, y_test = dataset[0],dataset[1],dataset[2],dataset[3]"
   ]
  },
  {
   "cell_type": "markdown",
   "id": "126e98f0",
   "metadata": {},
   "source": [
    "### Define Neural Network"
   ]
  },
  {
   "cell_type": "code",
   "execution_count": 4,
   "id": "4aa0b2aa",
   "metadata": {},
   "outputs": [],
   "source": [
    "class NeuralNetwork():\n",
    "    '''\n",
    "        Class to define an artificial neural network. The class expects number of neurons\n",
    "        in each layer and the number of output neurons. \n",
    "        \n",
    "    '''\n",
    "    def __init__(self, list_of_neurons_in_layer, last_layer_neurons=10, activation_function='relu',dropout_rate = 0, regularizer = 0.01):\n",
    "        '''\n",
    "            Initialize the neural network. \n",
    "        '''\n",
    "        assert isinstance(list_of_neurons_in_layer,list), 'list_of_neurons_in_layer must be of type list.'\n",
    "        assert isinstance(last_layer_neurons, int), 'last_layer_neurons must be of type integer.'\n",
    "        assert isinstance(activation_function, str), 'activation_function must be of type string.'\n",
    "        assert isinstance(dropout_rate, float), 'dropout_rate must be of type float.'\n",
    "        \n",
    "        #Build model based on the provided list\n",
    "        self.model = tf.keras.models.Sequential()\n",
    "        for i, neurons in enumerate(list_of_neurons_in_layer):\n",
    "            if i == 0:\n",
    "                self.model.add(tf.keras.layers.Dense(neurons, activation = activation_function,))\n",
    "            else:\n",
    "                self.model.add(tf.keras.layers.Dense(neurons, activation = activation_function,\n",
    "                                                    kernel_regularizer = tf.keras.regularizers.l2(regularizer)))\n",
    "                self.model.add(tf.keras.layers.Dropout(dropout_rate))\n",
    "        self.model.add(tf.keras.layers.Dense(last_layer_neurons, activation='softmax'))\n",
    "        \n",
    "    def compile(self, optimizer, loss, metrics):\n",
    "        '''\n",
    "            Compile the built model. \n",
    "            \n",
    "        '''\n",
    "#         assert isinstance(optimizer, str), 'Optimizer must be of type string'\n",
    "#         assert isinstance(loss, str), 'Optimizer must be of type string'\n",
    "#         assert isinstance(metrics, list), 'Optimizer must be of type list'\n",
    "        \n",
    "        self.model.compile(optimizer=optimizer, loss=loss, metrics=metrics)\n",
    "\n",
    "    def fit(self, x_train, y_train, epochs = 30, batch_size = 32, validation_split = 0.2, verbose = 1):\n",
    "        '''\n",
    "            Fit the training data to the model. \n",
    "        '''\n",
    "        assert isinstance(epochs, int), 'Epochs must be of type integer'\n",
    "        assert isinstance(batch_size, int), 'Batch Size must be of type integer'\n",
    "        assert isinstance(validation_split, float), 'Validation Split must be of type float'\n",
    "        # Model checkpoints\n",
    "        self.model.fit(x_train, y_train, epochs = epochs, batch_size = batch_size, \n",
    "                       validation_split = validation_split, verbose = verbose)\n",
    "    \n",
    "    def evaluate(self, x_test, y_test):\n",
    "        '''\n",
    "            Evaluate the model\n",
    "        '''\n",
    "        return self.model.evaluate(x_test, y_test)\n",
    "    \n",
    "    def plot_loss(self):\n",
    "        '''\n",
    "            Plot the accuracy and loss of the model.\n",
    "        :return:\n",
    "        '''        \n",
    "        fig, (ax1, ax2) = plt.subplots(1, 2)\n",
    "        fig.suptitle('Model performance')\n",
    "        ax1.plot(self.model.history.history['accuracy'])  \n",
    "        ax1.plot(self.model.history.history['val_accuracy'])  \n",
    "        ax2.plot(self.model.history.history['loss'])  \n",
    "        ax2.plot(self.model.history.history['val_loss'])  \n",
    "        ax1.set_title('model accuracy')\n",
    "        ax1.set_ylabel('accuracy')\n",
    "        ax1.set_xlabel('epoch')\n",
    "        ax1.legend(['train','val'], loc='lower right')\n",
    "        ax2.set_title('model loss')\n",
    "        ax2.set_ylabel('loss')\n",
    "        ax2.set_xlabel('epoch')\n",
    "        ax2.legend(['train','val'], loc='upper right')\n",
    "\n",
    "    def predict(self, x_test):\n",
    "        '''\n",
    "            Predict the output of the model\n",
    "        '''\n",
    "        return self.model.predict(x_test)"
   ]
  },
  {
   "cell_type": "code",
   "execution_count": 5,
   "id": "5eafb8a0",
   "metadata": {},
   "outputs": [
    {
     "name": "stdout",
     "output_type": "stream",
     "text": [
      "Metal device set to: Apple M1 Pro\n"
     ]
    },
    {
     "name": "stderr",
     "output_type": "stream",
     "text": [
      "2022-05-05 10:38:57.443272: I tensorflow/core/common_runtime/pluggable_device/pluggable_device_factory.cc:305] Could not identify NUMA node of platform GPU ID 0, defaulting to 0. Your kernel may not have been built with NUMA support.\n",
      "2022-05-05 10:38:57.443379: I tensorflow/core/common_runtime/pluggable_device/pluggable_device_factory.cc:271] Created TensorFlow device (/job:localhost/replica:0/task:0/device:GPU:0 with 0 MB memory) -> physical PluggableDevice (device: 0, name: METAL, pci bus id: <undefined>)\n"
     ]
    }
   ],
   "source": [
    "NN= NeuralNetwork([100,50],10,dropout_rate=0.4, regularizer=0.05)"
   ]
  },
  {
   "cell_type": "code",
   "execution_count": 20,
   "id": "3eb1f0a3",
   "metadata": {},
   "outputs": [],
   "source": [
    "NN.compile('adagrad','sparse_categorical_crossentropy',['accuracy'])"
   ]
  },
  {
   "cell_type": "code",
   "execution_count": 21,
   "id": "19606853",
   "metadata": {
    "scrolled": true
   },
   "outputs": [
    {
     "name": "stdout",
     "output_type": "stream",
     "text": [
      "Epoch 1/5\n",
      " 22/750 [..............................] - ETA: 3s - loss: 5.6388 - accuracy: 0.1293"
     ]
    },
    {
     "name": "stderr",
     "output_type": "stream",
     "text": [
      "2022-05-05 09:53:28.810044: I tensorflow/core/grappler/optimizers/custom_graph_optimizer_registry.cc:113] Plugin optimizer for device_type GPU is enabled.\n"
     ]
    },
    {
     "name": "stdout",
     "output_type": "stream",
     "text": [
      "742/750 [============================>.] - ETA: 0s - loss: 4.9499 - accuracy: 0.1669"
     ]
    },
    {
     "name": "stderr",
     "output_type": "stream",
     "text": [
      "2022-05-05 09:53:32.422043: I tensorflow/core/grappler/optimizers/custom_graph_optimizer_registry.cc:113] Plugin optimizer for device_type GPU is enabled.\n"
     ]
    },
    {
     "name": "stdout",
     "output_type": "stream",
     "text": [
      "750/750 [==============================] - 4s 6ms/step - loss: 4.9449 - accuracy: 0.1671 - val_loss: 4.4221 - val_accuracy: 0.2460\n",
      "Epoch 2/5\n",
      "750/750 [==============================] - 4s 5ms/step - loss: 4.1304 - accuracy: 0.2484 - val_loss: 3.8173 - val_accuracy: 0.3348\n",
      "Epoch 3/5\n",
      "750/750 [==============================] - 4s 5ms/step - loss: 3.6537 - accuracy: 0.2892 - val_loss: 3.4170 - val_accuracy: 0.3890\n",
      "Epoch 4/5\n",
      "750/750 [==============================] - 4s 5ms/step - loss: 3.3158 - accuracy: 0.3217 - val_loss: 3.1246 - val_accuracy: 0.4153\n",
      "Epoch 5/5\n",
      "750/750 [==============================] - 4s 5ms/step - loss: 3.0658 - accuracy: 0.3469 - val_loss: 2.9018 - val_accuracy: 0.4393\n"
     ]
    }
   ],
   "source": [
    "NN.fit(X_train,y_train,epochs=5)"
   ]
  },
  {
   "cell_type": "code",
   "execution_count": 22,
   "id": "ceb422d3",
   "metadata": {},
   "outputs": [],
   "source": [
    "# NN.predict(X_test.iloc[1:2,:])"
   ]
  },
  {
   "cell_type": "code",
   "execution_count": 101,
   "id": "e370ba8a",
   "metadata": {},
   "outputs": [
    {
     "data": {
      "image/png": "[encoded data removed]",
      "text/plain": [
       "<Figure size 432x288 with 2 Axes>"
      ]
     },
     "metadata": {
      "needs_background": "light"
     },
     "output_type": "display_data"
    }
   ],
   "source": [
    "NN.plot_loss()"
   ]
  },
  {
   "cell_type": "code",
   "execution_count": 104,
   "id": "ad1ad9da",
   "metadata": {},
   "outputs": [
    {
     "name": "stdout",
     "output_type": "stream",
     "text": [
      "313/313 [==============================] - 1s 4ms/step - loss: 0.9410 - accuracy: 0.7581\n"
     ]
    },
    {
     "data": {
      "text/plain": [
       "[0.9409602880477905, 0.7581000328063965]"
      ]
     },
     "execution_count": 104,
     "metadata": {},
     "output_type": "execute_result"
    }
   ],
   "source": [
    "NN.evaluate(X_test,y_test)"
   ]
  },
  {
   "cell_type": "code",
   "execution_count": 44,
   "id": "ae21b8e1",
   "metadata": {},
   "outputs": [],
   "source": [
    "class ensemble():\n",
    "    '''\n",
    "            Ensemble class to create an ensemble of models.\n",
    "    '''\n",
    "    def __init__(self):\n",
    "        self.models = []\n",
    "\n",
    "        \n",
    "    def build_model(self, no_of_models):\n",
    "        '''\n",
    "            Build a model for each of the models in the ensemble.\n",
    "        '''\n",
    "        assert isinstance(no_of_models, int), 'No of models must be of type integer'\n",
    "        \n",
    "        optimizers = ['adam','rmsprop','sgd','adagrad']      #Choose an optimizer\n",
    "        for i in range(no_of_models):\n",
    "            list_neurons = [random.randint(100,150), random.randint(50,100)]     #Random no of neurons \n",
    "            dropout_rate=random.random()/50\n",
    "            regularizer=random.random()/10\n",
    "            \n",
    "            NN = NeuralNetwork(list_neurons,10,dropout_rate=dropout_rate, regularizer=regularizer)\n",
    "            NN.compile(random.choice(optimizers),'sparse_categorical_crossentropy',['accuracy'])\n",
    "            \n",
    "            self.models.append(NN)\n",
    "\n",
    "            \n",
    "    def fit(self, x_train, y_train, epochs=30, batch_size=32, validation_split=0.2, verbose=1):\n",
    "        '''\n",
    "            Fit the training data to the model.\n",
    "        '''\n",
    "        assert isinstance(epochs, int), 'Epochs must be of type integer'\n",
    "        assert isinstance(batch_size, int), 'Batch Size must be of type integer'\n",
    "        assert isinstance(validation_split, float), 'Validation Split must be of type float'\n",
    "\n",
    "        for model in self.models:\n",
    "            model.fit(x_train, y_train, epochs=epochs, batch_size=batch_size,\n",
    "                       validation_split=validation_split, verbose=verbose)\n",
    "        \n",
    "    def predict(self, x_test):\n",
    "        '''\n",
    "            Predict the test data\n",
    "        '''\n",
    "        result = np.zeros([x_test.shape[0],10])\n",
    "        for model in self.models:\n",
    "            result = np.add(result, model.predict(x_test))\n",
    "        return np.round(result/len(self.models),decimals=2)\n",
    "    \n",
    "    def evaluate(self,x_test, y_test):\n",
    "        '''\n",
    "            Evaluate the accuracy and loss of each model.\n",
    "        '''\n",
    "        loss_list = []\n",
    "        acc_list = []\n",
    "        for model in self.models:\n",
    "            loss, acc = model.evaluate(x_test, y_test)\n",
    "            print(loss, acc)\n",
    "            loss_list.append(float(loss))\n",
    "            acc_list.append(float(acc))\n",
    "\n",
    "        print('Average Model Accuracy: %.3f' %  float(sum(acc_list)/len(acc_list)))\n",
    "        print('Average Model Loss: %.3f' %  float(sum(loss_list)/len(loss_list)))\n",
    "    \n",
    "    def plot(self):\n",
    "        for model in self.models:\n",
    "            model.plot_loss()\n",
    "\n"
   ]
  },
  {
   "cell_type": "code",
   "execution_count": 45,
   "id": "6d070994",
   "metadata": {},
   "outputs": [],
   "source": [
    "def get_labels(y):\n",
    "    res = []\n",
    "    for i in range(y.shape[0]):\n",
    "        res.append(np.argmax(y[i]))\n",
    "    return res"
   ]
  },
  {
   "cell_type": "code",
   "execution_count": 53,
   "id": "bfb612d0",
   "metadata": {},
   "outputs": [],
   "source": [
    "ens = ensemble()\n",
    "ens.build_model(2)"
   ]
  },
  {
   "cell_type": "code",
   "execution_count": 54,
   "id": "a57715fb",
   "metadata": {
    "scrolled": true
   },
   "outputs": [
    {
     "name": "stdout",
     "output_type": "stream",
     "text": [
      "Epoch 1/5\n",
      " 10/750 [..............................] - ETA: 4s - loss: 7.3942 - accuracy: 0.1187  "
     ]
    },
    {
     "name": "stderr",
     "output_type": "stream",
     "text": [
      "2022-05-05 10:55:48.658205: I tensorflow/core/grappler/optimizers/custom_graph_optimizer_registry.cc:113] Plugin optimizer for device_type GPU is enabled.\n"
     ]
    },
    {
     "name": "stdout",
     "output_type": "stream",
     "text": [
      "745/750 [============================>.] - ETA: 0s - loss: 1.9604 - accuracy: 0.5361"
     ]
    },
    {
     "name": "stderr",
     "output_type": "stream",
     "text": [
      "2022-05-05 10:55:52.237490: I tensorflow/core/grappler/optimizers/custom_graph_optimizer_registry.cc:113] Plugin optimizer for device_type GPU is enabled.\n"
     ]
    },
    {
     "name": "stdout",
     "output_type": "stream",
     "text": [
      "750/750 [==============================] - 4s 6ms/step - loss: 1.9560 - accuracy: 0.5367 - val_loss: 1.2056 - val_accuracy: 0.6615\n",
      "Epoch 2/5\n",
      "750/750 [==============================] - 4s 5ms/step - loss: 1.0670 - accuracy: 0.7139 - val_loss: 0.9431 - val_accuracy: 0.7572\n",
      "Epoch 3/5\n",
      "750/750 [==============================] - 4s 5ms/step - loss: 0.8902 - accuracy: 0.7717 - val_loss: 0.8494 - val_accuracy: 0.7778\n",
      "Epoch 4/5\n",
      "750/750 [==============================] - 4s 5ms/step - loss: 0.7905 - accuracy: 0.7992 - val_loss: 0.7773 - val_accuracy: 0.7960\n",
      "Epoch 5/5\n",
      "750/750 [==============================] - 4s 5ms/step - loss: 0.7236 - accuracy: 0.8183 - val_loss: 0.7193 - val_accuracy: 0.8190\n",
      "Epoch 1/5\n",
      " 11/750 [..............................] - ETA: 3s - loss: 5.8599 - accuracy: 0.1023  "
     ]
    },
    {
     "name": "stderr",
     "output_type": "stream",
     "text": [
      "2022-05-05 10:56:09.359906: I tensorflow/core/grappler/optimizers/custom_graph_optimizer_registry.cc:113] Plugin optimizer for device_type GPU is enabled.\n"
     ]
    },
    {
     "name": "stdout",
     "output_type": "stream",
     "text": [
      "740/750 [============================>.] - ETA: 0s - loss: 1.8657 - accuracy: 0.5376"
     ]
    },
    {
     "name": "stderr",
     "output_type": "stream",
     "text": [
      "2022-05-05 10:56:12.911834: I tensorflow/core/grappler/optimizers/custom_graph_optimizer_registry.cc:113] Plugin optimizer for device_type GPU is enabled.\n"
     ]
    },
    {
     "name": "stdout",
     "output_type": "stream",
     "text": [
      "750/750 [==============================] - 4s 6ms/step - loss: 1.8579 - accuracy: 0.5385 - val_loss: 1.2053 - val_accuracy: 0.6663\n",
      "Epoch 2/5\n",
      "750/750 [==============================] - 4s 5ms/step - loss: 1.0723 - accuracy: 0.7086 - val_loss: 0.9527 - val_accuracy: 0.7452\n",
      "Epoch 3/5\n",
      "750/750 [==============================] - 4s 6ms/step - loss: 0.8932 - accuracy: 0.7680 - val_loss: 0.8436 - val_accuracy: 0.7873\n",
      "Epoch 4/5\n",
      "750/750 [==============================] - 4s 5ms/step - loss: 0.7882 - accuracy: 0.7997 - val_loss: 0.7739 - val_accuracy: 0.7965\n",
      "Epoch 5/5\n",
      "750/750 [==============================] - 4s 5ms/step - loss: 0.7208 - accuracy: 0.8200 - val_loss: 0.7542 - val_accuracy: 0.8002\n"
     ]
    }
   ],
   "source": [
    "ens.fit(X_train,y_train,5)"
   ]
  },
  {
   "cell_type": "code",
   "execution_count": 56,
   "id": "2e8429d4",
   "metadata": {},
   "outputs": [
    {
     "name": "stdout",
     "output_type": "stream",
     "text": [
      "313/313 [==============================] - 1s 4ms/step - loss: 1.1564 - accuracy: 0.6929\n",
      "1.1563893556594849 0.6929000616073608\n",
      "313/313 [==============================] - 1s 4ms/step - loss: 1.2140 - accuracy: 0.6674\n",
      "1.2139676809310913 0.6674000024795532\n",
      "Average Model Accuracy: 0.680\n",
      "Average Model Loss: 1.185\n"
     ]
    }
   ],
   "source": [
    "ens.evaluate(X_test,y_test)"
   ]
  },
  {
   "cell_type": "code",
   "execution_count": 55,
   "id": "68eb03ac",
   "metadata": {},
   "outputs": [
    {
     "data": {
      "image/png": "[encoded data removed]",
      "text/plain": [
       "<Figure size 432x288 with 2 Axes>"
      ]
     },
     "metadata": {
      "needs_background": "light"
     },
     "output_type": "display_data"
    },
    {
     "data": {
      "image/png": "[encoded data removed]",
      "text/plain": [
       "<Figure size 432x288 with 2 Axes>"
      ]
     },
     "metadata": {
      "needs_background": "light"
     },
     "output_type": "display_data"
    }
   ],
   "source": [
    "ens.plot()"
   ]
  },
  {
   "cell_type": "code",
   "execution_count": 57,
   "id": "6e610f9b",
   "metadata": {},
   "outputs": [
    {
     "name": "stderr",
     "output_type": "stream",
     "text": [
      "2022-05-05 10:56:56.941497: I tensorflow/core/grappler/optimizers/custom_graph_optimizer_registry.cc:113] Plugin optimizer for device_type GPU is enabled.\n",
      "2022-05-05 10:56:57.472394: I tensorflow/core/grappler/optimizers/custom_graph_optimizer_registry.cc:113] Plugin optimizer for device_type GPU is enabled.\n"
     ]
    }
   ],
   "source": [
    "ans = ens.predict(X_test)"
   ]
  },
  {
   "cell_type": "code",
   "execution_count": 58,
   "id": "8d5888ce",
   "metadata": {
    "scrolled": true
   },
   "outputs": [],
   "source": [
    "results = get_labels(ans)"
   ]
  },
  {
   "cell_type": "code",
   "execution_count": 307,
   "id": "032f5295",
   "metadata": {
    "scrolled": true
   },
   "outputs": [],
   "source": [
    "a = y_test.tolist()"
   ]
  },
  {
   "cell_type": "code",
   "execution_count": 62,
   "id": "baef9ec7",
   "metadata": {},
   "outputs": [
    {
     "data": {
      "text/plain": [
       "array([[ 884,    0,    9,    6,    2,    6,   30,    2,    9,   15],\n",
       "       [   1, 1095,   16,    5,    6,    5,    0,    4,    7,    1],\n",
       "       [  71,    7,  633,   40,   64,   27,   25,   89,   31,    8],\n",
       "       [  20,    9,   51,  664,    7,   62,   86,   13,   83,   13],\n",
       "       [   9,    8,   92,    0,  604,   51,   31,  111,   15,   62],\n",
       "       [  22,   11,    9,   44,   34,  671,   50,   19,   23,   12],\n",
       "       [  26,   16,   15,   24,   10,   32,  636,   89,   20,  132],\n",
       "       [  12,   16,   58,    5,   84,    6,  136,  663,    3,   35],\n",
       "       [  14,   22,   87,  121,   21,   70,   46,    5,  589,   10],\n",
       "       [  37,    5,   15,   12,   96,   38,  167,   37,   10,  596]])"
      ]
     },
     "execution_count": 62,
     "metadata": {},
     "output_type": "execute_result"
    }
   ],
   "source": [
    "from sklearn.metrics import confusion_matrix \n",
    "confusion_matrix(y_test, results)"
   ]
  },
  {
   "cell_type": "code",
   "execution_count": 70,
   "id": "5b625a75",
   "metadata": {},
   "outputs": [
    {
     "name": "stdout",
     "output_type": "stream",
     "text": [
      "0.7024296164310289 0.7011166306161614\n"
     ]
    }
   ],
   "source": [
    "from sklearn.metrics import precision_score, recall_score\n",
    "a = precision_score(y_test, results,average='macro')\n",
    "b =recall_score(y_test, results,average='macro')\n",
    "print(a,b)"
   ]
  },
  {
   "cell_type": "code",
   "execution_count": 72,
   "id": "0c848901",
   "metadata": {},
   "outputs": [
    {
     "data": {
      "text/plain": [
       "0.6994493635317407"
      ]
     },
     "execution_count": 72,
     "metadata": {},
     "output_type": "execute_result"
    }
   ],
   "source": [
    "from sklearn.metrics import f1_score\n",
    "f1_score(y_test, results,average='macro') "
   ]
  },
  {
   "cell_type": "code",
   "execution_count": 73,
   "id": "cfcec8d1",
   "metadata": {},
   "outputs": [
    {
     "name": "stdout",
     "output_type": "stream",
     "text": [
      "              precision    recall  f1-score   support\n",
      "\n",
      "           0       0.81      0.92      0.86       963\n",
      "           1       0.92      0.96      0.94      1140\n",
      "           2       0.64      0.64      0.64       995\n",
      "           3       0.72      0.66      0.69      1008\n",
      "           4       0.65      0.61      0.63       983\n",
      "           5       0.69      0.75      0.72       895\n",
      "           6       0.53      0.64      0.58      1000\n",
      "           7       0.64      0.65      0.65      1018\n",
      "           8       0.75      0.60      0.66       985\n",
      "           9       0.67      0.59      0.63      1013\n",
      "\n",
      "    accuracy                           0.70     10000\n",
      "   macro avg       0.70      0.70      0.70     10000\n",
      "weighted avg       0.71      0.70      0.70     10000\n",
      "\n"
     ]
    }
   ],
   "source": [
    "from sklearn.metrics import classification_report\n",
    "\n",
    "# label_names = ['label A', 'label B', 'label C', 'label D']\n",
    "\n",
    "print(classification_report(y_test, results))"
   ]
  },
  {
   "cell_type": "code",
   "execution_count": null,
   "id": "8155e54f",
   "metadata": {
    "scrolled": true
   },
   "outputs": [],
   "source": []
  },
  {
   "cell_type": "code",
   "execution_count": null,
   "id": "e9434af5",
   "metadata": {},
   "outputs": [],
   "source": []
  },
  {
   "cell_type": "code",
   "execution_count": null,
   "id": "c7b1d42c",
   "metadata": {},
   "outputs": [],
   "source": []
  },
  {
   "cell_type": "code",
   "execution_count": null,
   "id": "2351f814",
   "metadata": {},
   "outputs": [],
   "source": []
  }
 ],
 "metadata": {
  "kernelspec": {
   "display_name": "base",
   "language": "python",
   "name": "base"
  },
  "language_info": {
   "codemirror_mode": {
    "name": "ipython",
    "version": 3
   },
   "file_extension": ".py",
   "mimetype": "text/x-python",
   "name": "python",
   "nbconvert_exporter": "python",
   "pygments_lexer": "ipython3",
   "version": "3.9.10"
  }
 },
 "nbformat": 4,
 "nbformat_minor": 5
}
